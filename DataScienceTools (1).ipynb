{
  "metadata": {
    "kernelspec": {
      "name": "xpython",
      "display_name": "Python 3.13 (XPython)",
      "language": "python"
    },
    "language_info": {
      "file_extension": ".py",
      "mimetype": "text/x-python",
      "name": "python",
      "version": "3.13.1"
    }
  },
  "nbformat_minor": 5,
  "nbformat": 4,
  "cells": [
    {
      "id": "ffde23ec-f351-400f-b696-8eb59440daf8",
      "cell_type": "markdown",
      "source": "# Data Science Tools ",
      "metadata": {}
    },
    {
      "id": "ef841225-5b39-4e10-9ed2-28263413010a",
      "cell_type": "markdown",
      "source": "## Introduction\n# This notebook provides an overview of some of the popular tools, libraries, and languages used in Data Science.",
      "metadata": {}
    },
    {
      "id": "2b9ffb5a-a6dd-4cb2-a956-30b582555895",
      "cell_type": "markdown",
      "source": "## Data Science Languages\nSome of the popular languages used by data scientists include:\n- Python\n- R\n- SQL\n- Julia",
      "metadata": {}
    },
    {
      "id": "2d421d65-e9eb-4430-b5a5-fdb9acde47e6",
      "cell_type": "markdown",
      "source": "## Data Science Libraries\nSome of the commonly used libraries are:\n- Pandas\n- NumPy\n- Matplotlib\n- Scikit-learn\n- TensorFlow\n",
      "metadata": {}
    },
    {
      "id": "214c931c-4586-4c6b-9bb3-7a3ae6bf297f",
      "cell_type": "markdown",
      "source": "## Data Science Tools\n    - Jupyter ( Interactive notebook environment )\n    - RStudio (IDE for R programming)             \n    - TensorFlow (Deep learning framework)           \n",
      "metadata": {}
    },
    {
      "id": "db63c043-f7f4-45a6-9534-029ea1f2dfe4",
      "cell_type": "markdown",
      "source": "## Arithmetic Expressions Examples\nBelow are examples of evaluating arithmetic expressions in Python.",
      "metadata": {}
    },
    {
      "id": "5946b230-ffc8-42e7-9e0a-f9d68dd36c5e",
      "cell_type": "code",
      "source": "#to multiply then add integers\n(3*4)+5",
      "metadata": {
        "trusted": true
      },
      "outputs": [],
      "execution_count": null
    },
    {
      "id": "5d294f4f-e7b1-4cd3-8a4b-635e54e2030a",
      "cell_type": "code",
      "source": "# This will convert 200 minutes to hours by dividing by 60\n200/60",
      "metadata": {
        "trusted": true
      },
      "outputs": [],
      "execution_count": null
    },
    {
      "id": "5018b447-fb88-4430-83c1-8a9436876bd9",
      "cell_type": "markdown",
      "source": "## Objectives\nIn this notebook, we will:\n- List popular languages for Data Science\n- List common libraries used in Data Science\n- Present examples of arithmetic operations\n- Create a table of common tools\n- Convert units with code\n",
      "metadata": {}
    },
    {
      "id": "22b16d5f-cbc5-4bfa-abd2-31a977c457dc",
      "cell_type": "markdown",
      "source": "## Author\nDhiraj Karki",
      "metadata": {}
    }
  ]
}